{
 "cells": [
  {
   "cell_type": "markdown",
   "metadata": {},
   "source": [
    "# Reference jupyter notebook for using the \"mycbr_py_api.py\""
   ]
  },
  {
   "cell_type": "code",
   "execution_count": 1,
   "metadata": {},
   "outputs": [],
   "source": [
    "import pandas as pd"
   ]
  },
  {
   "cell_type": "markdown",
   "metadata": {},
   "source": [
    "## How to import the MyCBRRestApi, the main class of \"mycbr_py_api.py\""
   ]
  },
  {
   "cell_type": "code",
   "execution_count": 2,
   "metadata": {},
   "outputs": [],
   "source": [
    "from mycbr_py_api import MyCBRRestApi as mycbr"
   ]
  },
  {
   "cell_type": "markdown",
   "metadata": {},
   "source": [
    "## Initial API calls to setup the environment properly"
   ]
  },
  {
   "cell_type": "markdown",
   "metadata": {},
   "source": [
    "### 1. Initialize the class object : call for __init__(...) method"
   ]
  },
  {
   "cell_type": "code",
   "execution_count": 3,
   "metadata": {},
   "outputs": [],
   "source": [
    "obj = mycbr(base_url='http://localhost:8080')"
   ]
  },
  {
   "cell_type": "markdown",
   "metadata": {},
   "source": [
    "### 2. Get all the concepts from the myCBR system"
   ]
  },
  {
   "cell_type": "code",
   "execution_count": 4,
   "metadata": {},
   "outputs": [
    {
     "data": {
      "text/plain": [
       "['animal']"
      ]
     },
     "execution_count": 4,
     "metadata": {},
     "output_type": "execute_result"
    }
   ],
   "source": [
    "obj.getAllConcepts()"
   ]
  },
  {
   "cell_type": "markdown",
   "metadata": {},
   "source": [
    "### 3. Get all the case bases from the myCBR system"
   ]
  },
  {
   "cell_type": "code",
   "execution_count": 5,
   "metadata": {},
   "outputs": [
    {
     "data": {
      "text/plain": [
       "['case_base']"
      ]
     },
     "execution_count": 5,
     "metadata": {},
     "output_type": "execute_result"
    }
   ],
   "source": [
    "obj.getCaseBaseIDs()"
   ]
  },
  {
   "cell_type": "markdown",
   "metadata": {},
   "source": [
    "#### 3.1. Set the default casebaseID to the first casebaseID from the return value of getCaseBaseIDs()"
   ]
  },
  {
   "cell_type": "code",
   "execution_count": 6,
   "metadata": {},
   "outputs": [
    {
     "data": {
      "text/plain": [
       "True"
      ]
     },
     "execution_count": 6,
     "metadata": {},
     "output_type": "execute_result"
    }
   ],
   "source": [
    "obj._setCurrentCasebaseID(obj.getCaseBaseIDs()[0])"
   ]
  },
  {
   "cell_type": "code",
   "execution_count": 7,
   "metadata": {},
   "outputs": [
    {
     "data": {
      "text/plain": [
       "'case_base'"
      ]
     },
     "execution_count": 7,
     "metadata": {},
     "output_type": "execute_result"
    }
   ],
   "source": [
    "obj._getCurrentCasebaseID()"
   ]
  },
  {
   "cell_type": "markdown",
   "metadata": {},
   "source": [
    "### 4. Get all the Amalgamation Functions defined for the given concept from the myCBR system"
   ]
  },
  {
   "cell_type": "code",
   "execution_count": 8,
   "metadata": {},
   "outputs": [
    {
     "data": {
      "text/plain": [
       "['eq_wt_25',\n",
       " 'eq_wt_all',\n",
       " 'rank_wt_25',\n",
       " 'rank_wt_75',\n",
       " 'score_wt_25',\n",
       " 'rank_wt_all',\n",
       " 'manual_wt_all',\n",
       " 'manual_wt_75',\n",
       " 'manual_wt_50',\n",
       " 'rank_wt_50',\n",
       " 'score_wt_50',\n",
       " 'score_wt_all',\n",
       " 'score_wt_75',\n",
       " 'eq_wt_75',\n",
       " 'eq_wt_50',\n",
       " 'manual_wt_25']"
      ]
     },
     "execution_count": 8,
     "metadata": {},
     "output_type": "execute_result"
    }
   ],
   "source": [
    "obj.getAllAmalgamationFunctions()"
   ]
  },
  {
   "cell_type": "code",
   "execution_count": null,
   "metadata": {},
   "outputs": [],
   "source": []
  },
  {
   "cell_type": "markdown",
   "metadata": {},
   "source": [
    "### 5. List all the attribute names which will be used as column names for the DataFrame"
   ]
  },
  {
   "cell_type": "markdown",
   "metadata": {},
   "source": [
    "##### The 'caseID' and 'similarity' tags are added appart from the attribute names of a concept"
   ]
  },
  {
   "cell_type": "code",
   "execution_count": 17,
   "metadata": {},
   "outputs": [
    {
     "data": {
      "text/plain": [
       "['caseID',\n",
       " 'similarity',\n",
       " 'eggs',\n",
       " 'predator',\n",
       " 'tail',\n",
       " 'fins',\n",
       " 'milk',\n",
       " 'toothed',\n",
       " 'type',\n",
       " 'breathes',\n",
       " 'domestic',\n",
       " 'catsize',\n",
       " 'hair',\n",
       " 'airborne',\n",
       " 'venomous',\n",
       " 'feathers',\n",
       " 'legs',\n",
       " 'name',\n",
       " 'backbone',\n",
       " 'id',\n",
       " 'aquatic']"
      ]
     },
     "execution_count": 17,
     "metadata": {},
     "output_type": "execute_result"
    }
   ],
   "source": [
    "obj._getCurrentColumnNames()"
   ]
  },
  {
   "cell_type": "markdown",
   "metadata": {},
   "source": [
    "## Sample calls for the myCBR-rest Service"
   ]
  },
  {
   "cell_type": "markdown",
   "metadata": {},
   "source": [
    "### 1.1 Get all the Attributes defined for the given concept from the myCBR system"
   ]
  },
  {
   "cell_type": "code",
   "execution_count": 18,
   "metadata": {},
   "outputs": [
    {
     "data": {
      "text/plain": [
       "{'eggs': 'SymbolDesc',\n",
       " 'predator': 'SymbolDesc',\n",
       " 'tail': 'SymbolDesc',\n",
       " 'fins': 'SymbolDesc',\n",
       " 'milk': 'SymbolDesc',\n",
       " 'toothed': 'SymbolDesc',\n",
       " 'type': 'SymbolDesc',\n",
       " 'breathes': 'SymbolDesc',\n",
       " 'domestic': 'SymbolDesc',\n",
       " 'catsize': 'SymbolDesc',\n",
       " 'hair': 'SymbolDesc',\n",
       " 'airborne': 'SymbolDesc',\n",
       " 'venomous': 'SymbolDesc',\n",
       " 'feathers': 'SymbolDesc',\n",
       " 'legs': 'IntegerDesc',\n",
       " 'name': 'StringDesc',\n",
       " 'backbone': 'SymbolDesc',\n",
       " 'id': 'IntegerDesc',\n",
       " 'aquatic': 'SymbolDesc'}"
      ]
     },
     "execution_count": 18,
     "metadata": {},
     "output_type": "execute_result"
    }
   ],
   "source": [
    "obj.getAllAttributes()"
   ]
  },
  {
   "cell_type": "markdown",
   "metadata": {},
   "source": [
    "### 1.2 Get details of an attribute using its attribute name (attributeID)"
   ]
  },
  {
   "cell_type": "markdown",
   "metadata": {},
   "source": [
    "##### Where: 'owner' is the concept name, 'name' is the attributeID, 'range' is the value range of the attribute, 'isMultiple' tells if multiple values are allowed for this attribute, 'type' is the datatype of the attribute."
   ]
  },
  {
   "cell_type": "code",
   "execution_count": 19,
   "metadata": {},
   "outputs": [
    {
     "data": {
      "text/plain": [
       "{'owner': 'animal',\n",
       " 'simFct': {'airborne_sim': {'name': 'airborne_sim',\n",
       "   'project': 'zoo',\n",
       "   'sims': [[{'value': 1.0, 'roundedValue': 1.0},\n",
       "     {'value': 0.0, 'roundedValue': 0.0}],\n",
       "    [{'value': 0.0, 'roundedValue': 0.0},\n",
       "     {'value': 1.0, 'roundedValue': 1.0}]],\n",
       "   'isSymmetric': True,\n",
       "   'attribute': 'airborne',\n",
       "   'type': 'no.ntnu.mycbr.core.similarity.SymbolFct',\n",
       "   'multipleConfig': {'type': 'MAX',\n",
       "    'mainType': 'PARTNER_QUERY',\n",
       "    'reuse': 'REUSE'}},\n",
       "  'default function': {'name': 'default function',\n",
       "   'project': 'zoo',\n",
       "   'sims': [[{'value': 1.0, 'roundedValue': 1.0},\n",
       "     {'value': 0.0, 'roundedValue': 0.0}],\n",
       "    [{'value': 0.0, 'roundedValue': 0.0},\n",
       "     {'value': 1.0, 'roundedValue': 1.0}]],\n",
       "   'isSymmetric': True,\n",
       "   'attribute': 'airborne',\n",
       "   'type': 'no.ntnu.mycbr.core.similarity.SymbolFct',\n",
       "   'multipleConfig': {'type': 'MAX',\n",
       "    'mainType': 'PARTNER_QUERY',\n",
       "    'reuse': 'REUSE'}}},\n",
       " 'name': 'airborne',\n",
       " 'range': ['No', 'Yes'],\n",
       " 'isMultiple': False,\n",
       " 'type': 'no.ntnu.mycbr.core.model.SymbolDesc'}"
      ]
     },
     "execution_count": 19,
     "metadata": {},
     "output_type": "execute_result"
    }
   ],
   "source": [
    "obj.getAttributeByID('airborne')"
   ]
  },
  {
   "cell_type": "code",
   "execution_count": 20,
   "metadata": {},
   "outputs": [
    {
     "data": {
      "text/plain": [
       "['caseID',\n",
       " 'similarity',\n",
       " 'eggs',\n",
       " 'predator',\n",
       " 'tail',\n",
       " 'fins',\n",
       " 'milk',\n",
       " 'toothed',\n",
       " 'type',\n",
       " 'breathes',\n",
       " 'domestic',\n",
       " 'catsize',\n",
       " 'hair',\n",
       " 'airborne',\n",
       " 'venomous',\n",
       " 'feathers',\n",
       " 'legs',\n",
       " 'name',\n",
       " 'backbone',\n",
       " 'id',\n",
       " 'aquatic']"
      ]
     },
     "execution_count": 20,
     "metadata": {},
     "output_type": "execute_result"
    }
   ],
   "source": [
    "obj.getColumnNames( 'animal')"
   ]
  },
  {
   "cell_type": "code",
   "execution_count": null,
   "metadata": {},
   "outputs": [],
   "source": [
    "obj._setColumnNamesForConcept( 'animal')"
   ]
  },
  {
   "cell_type": "code",
   "execution_count": null,
   "metadata": {},
   "outputs": [],
   "source": [
    "obj._getCurrentColumnNames()"
   ]
  },
  {
   "cell_type": "code",
   "execution_count": null,
   "metadata": {},
   "outputs": [],
   "source": [
    "obj.getAllAttributeSimilarityFunctions('legs')"
   ]
  },
  {
   "cell_type": "code",
   "execution_count": null,
   "metadata": {},
   "outputs": [],
   "source": [
    "obj.getCaseBaseIDs()"
   ]
  },
  {
   "cell_type": "code",
   "execution_count": null,
   "metadata": {},
   "outputs": [],
   "source": [
    "obj.addCaseBaseID('amar_test_cb')"
   ]
  },
  {
   "cell_type": "code",
   "execution_count": null,
   "metadata": {},
   "outputs": [],
   "source": [
    "obj.getCaseBaseIDs()"
   ]
  },
  {
   "cell_type": "code",
   "execution_count": null,
   "metadata": {},
   "outputs": [],
   "source": [
    "obj.deleteCaseBaseID('amar_test_cb')"
   ]
  },
  {
   "cell_type": "code",
   "execution_count": null,
   "metadata": {},
   "outputs": [],
   "source": [
    "obj.getCaseBaseIDs()"
   ]
  },
  {
   "cell_type": "raw",
   "metadata": {},
   "source": [
    "(default: self._conceptID)\n",
    "(default: self._casebaseID)\n",
    "if conceptID is None:\n",
    "            conceptID = self._conceptID"
   ]
  },
  {
   "cell_type": "code",
   "execution_count": null,
   "metadata": {},
   "outputs": [],
   "source": [
    "obj.getAllCasesFromCaseBase().head()"
   ]
  },
  {
   "cell_type": "code",
   "execution_count": null,
   "metadata": {},
   "outputs": [],
   "source": [
    "obj.getCaseByCaseID( caseID='animal53')"
   ]
  },
  {
   "cell_type": "code",
   "execution_count": null,
   "metadata": {},
   "outputs": [],
   "source": [
    "obj.getAllCases().head()"
   ]
  },
  {
   "cell_type": "code",
   "execution_count": null,
   "metadata": {},
   "outputs": [],
   "source": [
    "obj.getAllAmalgamationFunctions()"
   ]
  },
  {
   "cell_type": "code",
   "execution_count": null,
   "metadata": {},
   "outputs": [],
   "source": [
    "obj.getSimilarCasesFromEphemeralCaseBaseWithContent( caseID='animal53', ephemeralCaseIDs=['animal53','animal1','animal3','animal90'], amalgamationFunctionID='rank_wt_all')"
   ]
  },
  {
   "cell_type": "code",
   "execution_count": null,
   "metadata": {},
   "outputs": [],
   "source": [
    "obj.getSimilarCasesFromEphemeralCaseBase( queryIDs=['animal0','animal1','animal2'], ephemeralCaseIDs=['animal53','animal1','animal3','animal90'], amalgamationFunctionID='rank_wt_all')"
   ]
  },
  {
   "cell_type": "code",
   "execution_count": null,
   "metadata": {},
   "outputs": [],
   "source": [
    "obj.getSimilarCasesFromEphemeralCaseBaseWithContent( caseID='animal0', ephemeralCaseIDs=['animal0','animal1','animal3'], amalgamationFunctionID='rank_wt_all')"
   ]
  },
  {
   "cell_type": "code",
   "execution_count": null,
   "metadata": {},
   "outputs": [],
   "source": [
    "obj.getEphemeralCaseBaseSelfSimilarity( ephemeralCaseIDs=['animal0','animal1','animal3'], amalgamationFunctionID='rank_wt_all')"
   ]
  },
  {
   "cell_type": "code",
   "execution_count": null,
   "metadata": {},
   "outputs": [],
   "source": [
    "ssm1 = obj.getCaseBaseSelfSimilarity( amalgamationFunctionID='rank_wt_all')"
   ]
  },
  {
   "cell_type": "code",
   "execution_count": null,
   "metadata": {},
   "outputs": [],
   "source": [
    "obj.show_ordered_ssm( ssm1, ticks_interval=5);"
   ]
  },
  {
   "cell_type": "code",
   "execution_count": null,
   "metadata": {},
   "outputs": [],
   "source": [
    "obj.getSimilarCasesByAttribute( amalgamationFunctionID='rank_wt_all', attributeID='eggs', value='Yes').head()"
   ]
  },
  {
   "cell_type": "code",
   "execution_count": null,
   "metadata": {},
   "outputs": [],
   "source": [
    "obj.getAttributeByID( attributeID='eggs').get('range')"
   ]
  },
  {
   "cell_type": "code",
   "execution_count": null,
   "metadata": {},
   "outputs": [],
   "source": [
    "obj.getSimilarCasesByCaseID(caseID='animal0', amalgamationFunctionID='rank_wt_all')"
   ]
  },
  {
   "cell_type": "code",
   "execution_count": null,
   "metadata": {},
   "outputs": [],
   "source": [
    "res = {'animal0': 1.0, 'animal3': 1.0, 'animal50': 0.9571428571428572, 'animal64': 0.9571428571428572, 'animal69': 0.9571428571428572, 'animal67': 0.9571428571428572, 'animal4': 0.9571428571428572, 'animal10': 0.9571428571428572, 'animal98': 0.9571428571428572, 'animal47': 0.9571428571428572, 'animal44': 0.9571428571428572, 'animal45': 0.9571428571428572, 'animal55': 0.95, 'animal9': 0.95, 'animal5': 0.95, 'animal1': 0.95, 'animal22': 0.95, 'animal17': 0.95, 'animal28': 0.95, 'animal68': 0.9428571428571428, 'animal65': 0.9357142857142857, 'animal70': 0.9357142857142857, 'animal6': 0.9357142857142857, 'animal31': 0.9357142857142857, 'animal54': 0.9285714285714286, 'animal49': 0.9285714285714286, 'animal94': 0.9214285714285714, 'animal36': 0.9214285714285714, 'animal32': 0.9119697298322406, 'animal35': 0.9071428571428571, 'animal29': 0.9048268726893833, 'animal48': 0.9, 'animal96': 0.8691125869750976, 'animal84': 0.840541158403669, 'animal74': 0.8000837053571429, 'animal93': 0.7833983012608119, 'animal27': 0.7833983012608119, 'animal75': 0.7619697298322405, 'animal63': 0.7214285714285714, 'animal66': 0.6715122767857142, 'animal19': 0.6715122767857142, 'animal91': 0.6428571428571429, 'animal25': 0.6285714285714286, 'animal89': 0.6214285714285714, 'animal26': 0.6, 'animal52': 0.5857142857142857, 'animal90': 0.5714285714285714, 'animal80': 0.5572265625, 'animal62': 0.5286551339285714, 'animal76': 0.4929408482142857, 'animal51': 0.4548268726893834, 'animal40': 0.4548268726893834, 'animal72': 0.4429408482142857, 'animal88': 0.4262554441179548, 'animal97': 0.4262554441179548, 'animal24': 0.4262554441179548, 'animal81': 0.4215122767857143, 'animal99': 0.4215122767857143, 'animal39': 0.4119697298322405, 'animal60': 0.4072265625, 'animal92': 0.4072265625, 'animal18': 0.4072265625, 'animal71': 0.3976840155465262, 'animal14': 0.39285714285714285, 'animal56': 0.3905411584036691, 'animal61': 0.3786551339285714, 'animal8': 0.3786551339285714, 'animal2': 0.3786551339285714, 'animal86': 0.3786551339285714, 'animal12': 0.3786551339285714, 'animal38': 0.3786551339285714, 'animal42': 0.3762554441179548, 'animal73': 0.3715122767857143, 'animal82': 0.3715122767857143, 'animal34': 0.3715122767857143, 'animal30': 0.36911258697509763, 'animal41': 0.36911258697509763, 'animal13': 0.36436941964285713, 'animal7': 0.3572265625, 'animal58': 0.3405411584036691, 'animal95': 0.3405411584036691, 'animal53': 0.33579799107142855, 'animal23': 0.33339830126081194, 'animal85': 0.32969219224261387, 'animal15': 0.3119697298322405, 'animal16': 0.3119697298322405, 'animal46': 0.3119697298322405, 'animal37': 0.3119697298322405, 'animal59': 0.30482687268938335, 'animal83': 0.30482687268938335, 'animal100': 0.30482687268938335, 'animal43': 0.30482687268938335, 'animal57': 0.29054115840366906, 'animal11': 0.29054115840366906, 'animal20': 0.29054115840366906, 'animal77': 0.27865513392857144, 'animal87': 0.2762554441179548, 'animal79': 0.25482687268938337, 'animal78': 0.25482687268938337, 'animal33': 0.25482687268938337, 'animal21': 0.24768401554652622}"
   ]
  },
  {
   "cell_type": "code",
   "execution_count": null,
   "metadata": {},
   "outputs": [],
   "source": [
    "d = pd.DataFrame(list(res.values()), index=res.keys())"
   ]
  },
  {
   "cell_type": "code",
   "execution_count": null,
   "metadata": {},
   "outputs": [],
   "source": [
    "obj.getSimilarCasesByCaseID(caseID='animal0', amalgamationFunctionID='rank_wt_all')"
   ]
  },
  {
   "cell_type": "code",
   "execution_count": null,
   "metadata": {},
   "outputs": [],
   "source": [
    "obj.getSimilarCasesByMultipleCaseIDs(caseIDs=['animal0', 'animal99', 'animal10', 'animal5',], amalgamationFunctionID='rank_wt_all').head()"
   ]
  },
  {
   "cell_type": "code",
   "execution_count": null,
   "metadata": {},
   "outputs": [],
   "source": [
    "obj.getSimilarCasesByCaseIDWithContent(caseID='animal0', amalgamationFunctionID='rank_wt_all').head()"
   ]
  },
  {
   "cell_type": "code",
   "execution_count": null,
   "metadata": {},
   "outputs": [],
   "source": []
  }
 ],
 "metadata": {
  "kernelspec": {
   "display_name": "Python 3",
   "language": "python",
   "name": "python3"
  },
  "language_info": {
   "codemirror_mode": {
    "name": "ipython",
    "version": 3
   },
   "file_extension": ".py",
   "mimetype": "text/x-python",
   "name": "python",
   "nbconvert_exporter": "python",
   "pygments_lexer": "ipython3",
   "version": "3.7.2"
  }
 },
 "nbformat": 4,
 "nbformat_minor": 4
}
